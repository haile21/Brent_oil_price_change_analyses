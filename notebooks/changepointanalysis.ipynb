{
 "cells": [
  {
   "cell_type": "code",
   "execution_count": null,
   "id": "initial_id",
   "metadata": {
    "collapsed": true
   },
   "outputs": [],
   "source": [
    "# Importing necessary lebraries\n",
    "import numpy as np\n",
    "import pandas as pd\n",
    "import os\n",
    "import sys\n",
    "import warnings\n",
    "import logging\n",
    "import matplotlib.pyplot as plt\n",
    "warnings.filterwarnings('ignore')"
   ]
  },
  {
   "metadata": {},
   "cell_type": "code",
   "outputs": [],
   "execution_count": null,
   "source": [
    "sys.path.append(os.path.join(os.path.abspath('..')))\n",
    "# Import modules\n",
    "from src import data_loading as dl\n",
    "from src.fetcher import WorldBankDataFetcher\n",
    "sys.path.append(os.path.abspath(\"../\"))\n",
    "\n",
    "# Now import your scripts\n",
    "#from scripts.eda import check_missing_values, check_duplicates, check_outliers,check_stationarity, save_cleaned_data\n",
    "\n",
    "from scripts.visualizer import plot_historical_prices,plot_rolling_statistics,plot_price_trend_over_years,plot_with_events,plot_time_series_decomposition,plot_smoothed_probabilities\n",
    "from scripts.analyzer import analyze_events,preprocess_data,fit_markov_switching_model,process_data\n",
    "from scripts.oil_price_analysis import analyze_indicators\n",
    "from scripts.AdaptingModel import PricePredictor"
   ],
   "id": "2ff312f0a9925173"
  },
  {
   "metadata": {},
   "cell_type": "code",
   "outputs": [],
   "execution_count": null,
   "source": [
    "logger = logging.getLogger('EDA Logger')\n",
    "logger.setLevel(logging.DEBUG)\n",
    "# load the data\n",
    "data = dl.load_data(\"BrentOilPrices.csv\")\n",
    "print(\"head of the BrentOilPrices \")\n",
    "data.head()"
   ],
   "id": "f3325d3606cb6d8c"
  },
  {
   "metadata": {},
   "cell_type": "code",
   "outputs": [],
   "execution_count": null,
   "source": [
    "data[\"Date\"] = pd.to_datetime(data[\"Date\"])\n",
    "data = data.set_index(\"Date\")\n",
    "# Plot historical prices\n",
    "plot_historical_prices(data)"
   ],
   "id": "61a3b8f34986f6d4"
  },
  {
   "metadata": {},
   "cell_type": "code",
   "outputs": [],
   "execution_count": null,
   "source": "plot_with_events(data)\n",
   "id": "2245f9c6e7a3ce1e"
  },
  {
   "metadata": {},
   "cell_type": "code",
   "outputs": [],
   "execution_count": null,
   "source": [
    "# Call the function\n",
    "analyze_events(data)"
   ],
   "id": "43fefa64f61b693b"
  },
  {
   "metadata": {},
   "cell_type": "code",
   "outputs": [],
   "execution_count": null,
   "source": [
    "# Preprocess the data\n",
    "diff_data = process_data(data)\n",
    "\n",
    "# Fit the model\n",
    "results = fit_markov_switching_model(diff_data)\n",
    "print(results.summary())"
   ],
   "id": "34d663a468be56cc"
  },
  {
   "metadata": {},
   "cell_type": "code",
   "outputs": [],
   "execution_count": null,
   "source": [
    "# Plot the smoothed probabilities\n",
    "plot_smoothed_probabilities(results, diff_data)"
   ],
   "id": "72e11aefd06f4ea0"
  },
  {
   "metadata": {},
   "cell_type": "code",
   "outputs": [],
   "execution_count": null,
   "source": "!pip install pandas numpy matplotlib scikit-learn tensorflow\n",
   "id": "a2d9d8a46c727c"
  },
  {
   "metadata": {},
   "cell_type": "code",
   "outputs": [],
   "execution_count": null,
   "source": [
    "import sys\n",
    "sys.modules.pop('scripts.analyzer')\n",
    "from scripts.analyzer import build_lstm_model, train_model, evaluate_model, preprocess_data\n",
    "# Preprocess the data for LSTM\n",
    "X_train, y_train, X_test, y_test, scaler, train_size, time_step = preprocess_data(data)\n",
    "model = build_lstm_model(input_shape=(X_train.shape[1], 1))\n",
    "train_model(model, X_train, y_train, epochs=10, batch_size=32)"
   ],
   "id": "ad4c9004109a9ff4"
  },
  {
   "metadata": {},
   "cell_type": "code",
   "outputs": [],
   "execution_count": null,
   "source": "predictions, mse, rmse, mae = evaluate_model(model, X_test, y_test, scaler)\n",
   "id": "f59fefb8cedee461"
  },
  {
   "metadata": {},
   "cell_type": "code",
   "outputs": [],
   "execution_count": null,
   "source": "!pip install wbdata\n",
   "id": "905b83dec07c1115"
  },
  {
   "metadata": {},
   "cell_type": "code",
   "outputs": [],
   "execution_count": null,
   "source": [
    "# Import the WorldBankDataFetcher class\n",
    "\n",
    "\n",
    "# Define your indicators\n",
    "indicators = {\n",
    "    'NY.GDP.MKTP.CD': {'name': 'GDP', 'country': 'WLD'},\n",
    "    'FP.CPI.TOTL.ZG': {'name': 'CPI', 'country': 'WLD'},\n",
    "    'SL.UEM.TOTL.ZS': {'name': 'Unemployment_Rate', 'country': 'WLD'},\n",
    "    'PA.NUS.FCRF': {'name': 'Exchange_Rate', 'country': 'EMU'}\n",
    "}\n",
    "\n",
    "# Initialize the fetcher\n",
    "fetcher = WorldBankDataFetcher('1987-05-20', '2022-11-14')\n",
    "\n",
    "# Fetch, process, and save data for each indicator\n",
    "for indicator_code, info in indicators.items():\n",
    "    raw_data = fetcher.fetch_indicator_data(indicator_code, info['name'], info['country'])\n",
    "    processed_data = fetcher.process_data(raw_data, info['name'])\n",
    "    if not processed_data.empty:\n",
    "        fetcher.save_data(processed_data, info['name'])\n",
    "processed_data.to_csv(\"data/CPI_cleaned_data_daily.csv\", index=False)\n",
    "\n",
    "# Now you can load and use the saved data in your notebook\n",
    "\n",
    "import pandas as pd\n",
    "\n",
    "gdp_data = pd.read_csv('data/GDP_cleaned_data_daily.csv')\n",
    "cpi_data = pd.read_csv('data/CPI_cleaned_data_daily.csv')\n",
    "unemployment_data = pd.read_csv('data/Unemployment_Rate_cleaned_data_daily.csv')\n",
    "exchange_rate_data = pd.read_csv('data/Exchange_Rate_cleaned_data_daily.csv')"
   ],
   "id": "210019e64d7686df"
  },
  {
   "metadata": {},
   "cell_type": "code",
   "outputs": [],
   "execution_count": null,
   "source": [
    "sys.path.append(os.path.abspath(\"../\"))\n",
    "\n",
    "\n",
    "\n",
    "# Load the data\n",
    "try:\n",
    "    gdp_data_daily = pd.read_csv(\"data/GDP_cleaned_data_daily.csv\")\n",
    "    gdp_data_daily['Date'] = pd.to_datetime(gdp_data_daily['Date'])\n",
    "\n",
    "    cpi_data_daily = pd.read_csv(\"data/CPI_cleaned_data_daily.csv\")\n",
    "    cpi_data_daily['Date'] = pd.to_datetime(cpi_data_daily['Date'])\n",
    "\n",
    "    unemployment_data_daily = pd.read_csv(\"data/Unemployment_Rate_cleaned_data_daily.csv\")\n",
    "    unemployment_data_daily['Date'] = pd.to_datetime(unemployment_data_daily['Date'])\n",
    "\n",
    "    exchange_rate_data_daily = pd.read_csv(\"data/Exchange_Rate_cleaned_data_daily.csv\")\n",
    "    exchange_rate_data_daily['Date'] = pd.to_datetime(exchange_rate_data_daily['Date'])\n",
    "\n",
    "    oil_data_daily = pd.read_csv(\"data/BrentOilPrices.csv\")\n",
    "    oil_data_daily['Date'] = pd.to_datetime(oil_data_daily['Date'])\n",
    "    oil_data_daily.set_index('Date', inplace=True)\n",
    "\n",
    "    print(\"Data loaded successfully!\")\n",
    "\n",
    "except FileNotFoundError as e:\n",
    "    print(f\"Error loading data: {e}\")\n",
    "    print(\"Please ensure all required CSV files are in the correct directory.\")\n",
    "    raise\n",
    "\n",
    "# Run the analysis\n",
    "if 'gdp_data_daily' in locals() and 'cpi_data_daily' in locals() and \\\n",
    "   'unemployment_data_daily' in locals() and 'exchange_rate_data_daily' in locals() and \\\n",
    "   'oil_data_daily' in locals():\n",
    "\n",
    "    analyze_indicators(\n",
    "        gdp_data_daily,\n",
    "        cpi_data_daily,\n",
    "        unemployment_data_daily,\n",
    "        exchange_rate_data_daily,\n",
    "        oil_data_daily\n",
    "    )\n",
    "else:\n",
    "    print(\"Some required data files could not be loaded. Please check the data paths and file names.\")"
   ],
   "id": "d903f06def7f40a0"
  },
  {
   "metadata": {},
   "cell_type": "code",
   "outputs": [],
   "execution_count": null,
   "source": [
    "# Initialize the predictor\n",
    "predictor = PricePredictor()\n",
    "\n",
    "# Load data\n",
    "if predictor.load_data():\n",
    "    # Train LSTM model\n",
    "    predictor.train_lstm()"
   ],
   "id": "f8cac38bda611ea3"
  },
  {
   "metadata": {},
   "cell_type": "code",
   "outputs": [],
   "execution_count": null,
   "source": "",
   "id": "41f4280915e9f69b"
  }
 ],
 "metadata": {
  "kernelspec": {
   "display_name": "Python 3",
   "language": "python",
   "name": "python3"
  },
  "language_info": {
   "codemirror_mode": {
    "name": "ipython",
    "version": 2
   },
   "file_extension": ".py",
   "mimetype": "text/x-python",
   "name": "python",
   "nbconvert_exporter": "python",
   "pygments_lexer": "ipython2",
   "version": "2.7.6"
  }
 },
 "nbformat": 4,
 "nbformat_minor": 5
}
